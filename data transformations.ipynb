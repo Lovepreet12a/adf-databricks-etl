{
 "cells": [
  {
   "cell_type": "markdown",
   "metadata": {
    "application/vnd.databricks.v1+cell": {
     "cellMetadata": {},
     "inputWidgets": {},
     "nuid": "a7e006c4-6bcd-4446-aeaf-9ca7d35dd736",
     "showTitle": false,
     "tableResultSettingsMap": {},
     "title": ""
    }
   },
   "source": [
    "\n",
    "#### Using Azure key vault to fetch the access key from the Azure Storage account"
   ]
  },
  {
   "cell_type": "code",
   "execution_count": 0,
   "metadata": {
    "application/vnd.databricks.v1+cell": {
     "cellMetadata": {
      "byteLimit": 2048000,
      "rowLimit": 10000
     },
     "inputWidgets": {},
     "nuid": "c91105d8-83be-4fcb-917f-8f6a93db7db7",
     "showTitle": false,
     "tableResultSettingsMap": {},
     "title": ""
    }
   },
   "outputs": [],
   "source": [
    "accesskey = dbutils.secrets.get(scope= \"MountingADLS\", key= \"mountingAccessKey\")"
   ]
  },
  {
   "cell_type": "markdown",
   "metadata": {
    "application/vnd.databricks.v1+cell": {
     "cellMetadata": {},
     "inputWidgets": {},
     "nuid": "fe55816a-a837-4445-896a-7a6999ab629c",
     "showTitle": false,
     "tableResultSettingsMap": {},
     "title": ""
    }
   },
   "source": [
    "\n",
    "#### Mounting Storage account on Databricks"
   ]
  },
  {
   "cell_type": "code",
   "execution_count": 0,
   "metadata": {
    "application/vnd.databricks.v1+cell": {
     "cellMetadata": {
      "byteLimit": 2048000,
      "rowLimit": 10000
     },
     "inputWidgets": {},
     "nuid": "acd20324-74cb-446f-81ed-23917d9285e1",
     "showTitle": false,
     "tableResultSettingsMap": {},
     "title": ""
    }
   },
   "outputs": [
    {
     "output_type": "stream",
     "name": "stdout",
     "output_type": "stream",
     "text": [
      "This mountpoint is already there\n"
     ]
    }
   ],
   "source": [
    "%python\n",
    "alreadyMounted = False\n",
    "\n",
    "for m in dbutils.fs.mounts():\n",
    "    if m.mountPoint == \"/mnt/sales\":\n",
    "        alreadyMounted = True\n",
    "        print(\"This mountpoint is already there\")\n",
    "        break\n",
    "\n",
    "if not alreadyMounted:\n",
    "    storage_account_key = accesskey\n",
    "    storage_account_name = \"ttstorageaccount12a\"\n",
    "    container_name = \"sales\"\n",
    "\n",
    "    dbutils.fs.mount(\n",
    "        source=f\"wasbs://{container_name}@{storage_account_name}.blob.core.windows.net\",\n",
    "        mount_point=\"/mnt/sales\",\n",
    "        extra_configs={\"fs.azure.account.key.{0}.blob.core.windows.net\".format(storage_account_name): storage_account_key}\n",
    "    )\n",
    "\n",
    "    alreadyMounted = True\n",
    "    print(\"Mounting done successfully\")"
   ]
  },
  {
   "cell_type": "markdown",
   "metadata": {
    "application/vnd.databricks.v1+cell": {
     "cellMetadata": {},
     "inputWidgets": {},
     "nuid": "7553c4c0-5a09-48c0-a0cf-185f37688f29",
     "showTitle": false,
     "tableResultSettingsMap": {},
     "title": ""
    }
   },
   "source": [
    "\n",
    "#### Fetching the file name from the Azure Data Factory's Storage Event Trigger Parameter"
   ]
  },
  {
   "cell_type": "code",
   "execution_count": 0,
   "metadata": {
    "application/vnd.databricks.v1+cell": {
     "cellMetadata": {},
     "inputWidgets": {},
     "nuid": "59aa15b5-01a0-4f12-9352-f7c6a9cd3975",
     "showTitle": false,
     "tableResultSettingsMap": {},
     "title": ""
    }
   },
   "outputs": [],
   "source": [
    "file = dbutils.widgets.get(\"IncomingFile\")\n",
    "print(file)"
   ]
  },
  {
   "cell_type": "markdown",
   "metadata": {
    "application/vnd.databricks.v1+cell": {
     "cellMetadata": {},
     "inputWidgets": {},
     "nuid": "d4e6ffbb-b99d-4286-bc28-8b28e9f2236b",
     "showTitle": false,
     "tableResultSettingsMap": {},
     "title": ""
    }
   },
   "source": [
    "\n",
    "#### Reading the fetched file"
   ]
  },
  {
   "cell_type": "code",
   "execution_count": 0,
   "metadata": {
    "application/vnd.databricks.v1+cell": {
     "cellMetadata": {},
     "inputWidgets": {},
     "nuid": "d0418709-2bbc-444d-bd50-e9c13f96ed97",
     "showTitle": false,
     "tableResultSettingsMap": {},
     "title": ""
    }
   },
   "outputs": [],
   "source": [
    "orders_df = spark.read \\\n",
    "    .format(\"csv\") \\\n",
    "        .option(\"header\", \"true\") \\\n",
    "            .option(\"path\", f\"dbfs:/mnt/sales/landing/{file}\") \\\n",
    "                .load()"
   ]
  },
  {
   "cell_type": "code",
   "execution_count": 0,
   "metadata": {
    "application/vnd.databricks.v1+cell": {
     "cellMetadata": {
      "byteLimit": 2048000,
      "rowLimit": 10000
     },
     "inputWidgets": {},
     "nuid": "93db458a-719b-4fdd-bb7e-0f99f913f6ca",
     "showTitle": false,
     "tableResultSettingsMap": {},
     "title": ""
    }
   },
   "outputs": [
    {
     "output_type": "stream",
     "name": "stdout",
     "output_type": "stream",
     "text": [
      "+--------+--------------------+-----------+---------------+\n|order_id|          order_date|customer_id|   order_status|\n+--------+--------------------+-----------+---------------+\n| 1111111|2013-07-25 00:00:...|      11599|         CLOSED|\n| 2222222|2013-07-25 00:00:...|        256|PENDING_PAYMENT|\n| 3333333|2013-07-25 00:00:...|      12111|       COMPLETE|\n| 4444444|2013-07-25 00:00:...|       8827|         CLOSED|\n+--------+--------------------+-----------+---------------+\n\n"
     ]
    }
   ],
   "source": [
    "orders_df.show()"
   ]
  },
  {
   "cell_type": "code",
   "execution_count": 0,
   "metadata": {
    "application/vnd.databricks.v1+cell": {
     "cellMetadata": {
      "byteLimit": 2048000,
      "rowLimit": 10000
     },
     "inputWidgets": {},
     "nuid": "6d5803ce-bb21-4b45-a32f-9d052bb411f7",
     "showTitle": false,
     "tableResultSettingsMap": {},
     "title": ""
    }
   },
   "outputs": [
    {
     "output_type": "stream",
     "name": "stdout",
     "output_type": "stream",
     "text": [
      "4\n"
     ]
    }
   ],
   "source": [
    "errorFlag = False\n",
    "\n",
    "ordersCount = orders_df.count()\n",
    "\n",
    "print(ordersCount)"
   ]
  },
  {
   "cell_type": "code",
   "execution_count": 0,
   "metadata": {
    "application/vnd.databricks.v1+cell": {
     "cellMetadata": {
      "byteLimit": 2048000,
      "rowLimit": 10000
     },
     "inputWidgets": {},
     "nuid": "084c87de-9beb-455d-8e06-5023ee52fcf3",
     "showTitle": false,
     "tableResultSettingsMap": {},
     "title": ""
    }
   },
   "outputs": [
    {
     "output_type": "stream",
     "name": "stdout",
     "output_type": "stream",
     "text": [
      "4\n"
     ]
    }
   ],
   "source": [
    "distinctOrdersCount = orders_df.select(\"order_id\").distinct().count()\n",
    "\n",
    "print(distinctOrdersCount)"
   ]
  },
  {
   "cell_type": "markdown",
   "metadata": {
    "application/vnd.databricks.v1+cell": {
     "cellMetadata": {},
     "inputWidgets": {},
     "nuid": "25155e02-2ad4-4831-8aa2-5b31ba713f21",
     "showTitle": false,
     "tableResultSettingsMap": {},
     "title": ""
    }
   },
   "source": [
    "\n",
    "#### Setting the first validation check on the basis of distinct id"
   ]
  },
  {
   "cell_type": "code",
   "execution_count": 0,
   "metadata": {
    "application/vnd.databricks.v1+cell": {
     "cellMetadata": {},
     "inputWidgets": {},
     "nuid": "ef45eb3e-cbfd-40c7-88ef-dfcef81adfd6",
     "showTitle": false,
     "tableResultSettingsMap": {},
     "title": ""
    }
   },
   "outputs": [],
   "source": [
    "if ordersCount != distinctOrdersCount:\n",
    "    errorFlag = True \n",
    "\n",
    "if errorFlag == True:\n",
    "    dbutils.fs.mv(f\"dbfs:/mnt/sales/landing/{file}\", \"dbfs:/mnt/sales/discarded\")\n",
    "    dbutils.notebook.exit('{\"errorFlag\": \"True\", \"errorMsg\":\"Orderid is repeated\"}')\n"
   ]
  },
  {
   "cell_type": "markdown",
   "metadata": {
    "application/vnd.databricks.v1+cell": {
     "cellMetadata": {
      "byteLimit": 2048000,
      "rowLimit": 10000
     },
     "inputWidgets": {},
     "nuid": "2f7c8d9b-76cb-4668-a670-53986e2c3e38",
     "showTitle": false,
     "tableResultSettingsMap": {},
     "title": ""
    }
   },
   "source": [
    "\n",
    "#### Now connecting to Azure SQL Database for the Second Validation check"
   ]
  },
  {
   "cell_type": "code",
   "execution_count": 0,
   "metadata": {
    "application/vnd.databricks.v1+cell": {
     "cellMetadata": {
      "byteLimit": 2048000,
      "rowLimit": 10000
     },
     "inputWidgets": {},
     "nuid": "d8a9dc95-eff3-4261-92c8-ec563613aede",
     "showTitle": false,
     "tableResultSettingsMap": {},
     "title": ""
    }
   },
   "outputs": [],
   "source": [
    "dbServer = \"tt-capstone-sql-server.database.windows.net\"\n",
    "dbPort = \"1433\"\n",
    "dbName = \"tt-capstone-database\"\n",
    "dbUser = \"lovepreetadmin\"\n",
    "dbPassword = dbutils.secrets.get(scope= \"MountingADLS\", key= \"SQL-password\")"
   ]
  },
  {
   "cell_type": "code",
   "execution_count": 0,
   "metadata": {
    "application/vnd.databricks.v1+cell": {
     "cellMetadata": {
      "byteLimit": 2048000,
      "rowLimit": 10000
     },
     "inputWidgets": {},
     "nuid": "129c4c3b-f846-4c40-b999-2d062f6ce812",
     "showTitle": false,
     "tableResultSettingsMap": {},
     "title": ""
    }
   },
   "outputs": [],
   "source": [
    "connectionUrl = 'jdbc:sqlserver://{0}:{1};database={2};user={3}'.format(dbServer, dbPort, dbName, dbUser)\n",
    "\n"
   ]
  },
  {
   "cell_type": "code",
   "execution_count": 0,
   "metadata": {
    "application/vnd.databricks.v1+cell": {
     "cellMetadata": {
      "byteLimit": 2048000,
      "rowLimit": 10000
     },
     "inputWidgets": {},
     "nuid": "f561a94b-06a2-4875-b4a5-c15f40b9e38f",
     "showTitle": false,
     "tableResultSettingsMap": {},
     "title": ""
    }
   },
   "outputs": [],
   "source": [
    "%python\n",
    "connectionProperties = {\n",
    "    \"user\": dbUser,\n",
    "    \"password\": dbPassword,\n",
    "    \"driver\": \"com.microsoft.sqlserver.jdbc.SQLServerDriver\"\n",
    "}\n",
    "\n",
    "valid_status_df = spark.read.jdbc(\n",
    "    url=connectionUrl,\n",
    "    table='dbo.valid_order_status',\n",
    "    properties=connectionProperties\n",
    ")"
   ]
  },
  {
   "cell_type": "code",
   "execution_count": 0,
   "metadata": {
    "application/vnd.databricks.v1+cell": {
     "cellMetadata": {
      "byteLimit": 2048000,
      "rowLimit": 10000
     },
     "inputWidgets": {},
     "nuid": "f2c561cd-d2d4-4e8c-8aed-00ce2af9e8d9",
     "showTitle": false,
     "tableResultSettingsMap": {},
     "title": ""
    }
   },
   "outputs": [
    {
     "output_type": "stream",
     "name": "stdout",
     "output_type": "stream",
     "text": [
      "+---------------+\n|    status_name|\n+---------------+\n|        ON_HOLD|\n| PAYMENT_REVIEW|\n|     PROCESSING|\n|         CLOSED|\n|SUSPECTED_FRAUD|\n|       COMPLETE|\n|        PENDING|\n|       CANCELED|\n|PENDING_PAYMENT|\n+---------------+\n\n"
     ]
    }
   ],
   "source": [
    "valid_status_df.show()"
   ]
  },
  {
   "cell_type": "code",
   "execution_count": 0,
   "metadata": {
    "application/vnd.databricks.v1+cell": {
     "cellMetadata": {
      "byteLimit": 2048000,
      "rowLimit": 10000
     },
     "inputWidgets": {},
     "nuid": "93a59729-9007-4ceb-a0c2-68b3c14d7ec0",
     "showTitle": false,
     "tableResultSettingsMap": {},
     "title": ""
    }
   },
   "outputs": [],
   "source": [
    "valid_status_df.createOrReplaceTempView(\"valid_status\")"
   ]
  },
  {
   "cell_type": "code",
   "execution_count": 0,
   "metadata": {
    "application/vnd.databricks.v1+cell": {
     "cellMetadata": {
      "byteLimit": 2048000,
      "rowLimit": 10000
     },
     "inputWidgets": {},
     "nuid": "63a4a93b-edc7-4751-87ce-3de8a4e05c27",
     "showTitle": false,
     "tableResultSettingsMap": {},
     "title": ""
    }
   },
   "outputs": [],
   "source": [
    "from pyspark.sql.functions import *"
   ]
  },
  {
   "cell_type": "markdown",
   "metadata": {
    "application/vnd.databricks.v1+cell": {
     "cellMetadata": {},
     "inputWidgets": {},
     "nuid": "c3e5524f-67d5-4231-8d78-713aff43a72b",
     "showTitle": false,
     "tableResultSettingsMap": {},
     "title": ""
    }
   },
   "source": [
    "\n",
    "#### Building logic for the second validation check"
   ]
  },
  {
   "cell_type": "code",
   "execution_count": 0,
   "metadata": {
    "application/vnd.databricks.v1+cell": {
     "cellMetadata": {
      "byteLimit": 2048000,
      "rowLimit": 10000
     },
     "inputWidgets": {},
     "nuid": "1d417b88-4682-4fc1-959c-43e1d1ebe1b9",
     "showTitle": false,
     "tableResultSettingsMap": {},
     "title": ""
    }
   },
   "outputs": [],
   "source": [
    "invalidRowDf = spark.sql(\"\"\"\n",
    "          SELECT * FROM orders WHERE order_status NOT IN (SELECT status_name FROM valid_status)\n",
    "          \"\"\")"
   ]
  },
  {
   "cell_type": "code",
   "execution_count": 0,
   "metadata": {
    "application/vnd.databricks.v1+cell": {
     "cellMetadata": {
      "byteLimit": 2048000,
      "rowLimit": 10000
     },
     "inputWidgets": {},
     "nuid": "cf511871-a356-4805-bfa9-4ef22b33f160",
     "showTitle": false,
     "tableResultSettingsMap": {},
     "title": ""
    }
   },
   "outputs": [
    {
     "output_type": "stream",
     "name": "stdout",
     "output_type": "stream",
     "text": [
      "+--------+----------+-----------+------------+\n|order_id|order_date|customer_id|order_status|\n+--------+----------+-----------+------------+\n+--------+----------+-----------+------------+\n\n"
     ]
    }
   ],
   "source": [
    "invalidRowDf.show()"
   ]
  },
  {
   "cell_type": "markdown",
   "metadata": {
    "application/vnd.databricks.v1+cell": {
     "cellMetadata": {},
     "inputWidgets": {},
     "nuid": "8fa3814c-7c11-4ec8-8451-e18704fa53ed",
     "showTitle": false,
     "tableResultSettingsMap": {},
     "title": ""
    }
   },
   "source": [
    "\n",
    "##### If the file passed both the validations then it moves to Staging folder in Azure Storage Account"
   ]
  },
  {
   "cell_type": "code",
   "execution_count": 0,
   "metadata": {
    "application/vnd.databricks.v1+cell": {
     "cellMetadata": {
      "byteLimit": 2048000,
      "rowLimit": 10000
     },
     "inputWidgets": {},
     "nuid": "f496b97b-674d-4c72-8c64-6db141066b7d",
     "showTitle": false,
     "tableResultSettingsMap": {},
     "title": ""
    }
   },
   "outputs": [],
   "source": [
    "if invalidRowDf.count() > 0:\n",
    "    errorFlag = True \n",
    "\n",
    "if errorFlag:\n",
    "    dbutils.fs.mv(f\"dbfs:/mnt/sales/landing/{file}\", \"dbfs:/mnt/sales/discarded\")\n",
    "    dbutils.notebook.exit('{\"errorFlag\": \"True\", \"errorMsg\":\"Invalid order status found\"}')\n",
    "\n",
    "else:\n",
    "    dbutils.fs.mv(f\"dbfs:/mnt/sales/landing/{file}\", \"dbfs:/mnt/sales/staging\")\n",
    "    "
   ]
  },
  {
   "cell_type": "markdown",
   "metadata": {
    "application/vnd.databricks.v1+cell": {
     "cellMetadata": {},
     "inputWidgets": {},
     "nuid": "1e296686-09e4-4648-ad46-c6f1ce8c7f04",
     "showTitle": false,
     "tableResultSettingsMap": {},
     "title": ""
    }
   },
   "source": [
    "\n",
    "#### Read the same orders file from staging folder"
   ]
  },
  {
   "cell_type": "code",
   "execution_count": 0,
   "metadata": {
    "application/vnd.databricks.v1+cell": {
     "cellMetadata": {},
     "inputWidgets": {},
     "nuid": "7fd6711d-4100-44ed-959e-64f876f90fad",
     "showTitle": false,
     "tableResultSettingsMap": {},
     "title": ""
    }
   },
   "outputs": [],
   "source": [
    "orders_staging_df = spark.read \\\n",
    "    .format(\"csv\") \\\n",
    "        .option(\"header\", \"true\") \\\n",
    "            .option(\"path\", f\"dbfs:/mnt/sales/staging/{file}\") \\\n",
    "            .load()"
   ]
  },
  {
   "cell_type": "code",
   "execution_count": 0,
   "metadata": {
    "application/vnd.databricks.v1+cell": {
     "cellMetadata": {},
     "inputWidgets": {},
     "nuid": "c133fa0a-c293-4e84-957e-ab5ec24127ea",
     "showTitle": false,
     "tableResultSettingsMap": {},
     "title": ""
    }
   },
   "outputs": [],
   "source": [
    "# Creating this Temp View\n",
    "\n",
    "orders_staging_df.createOrReplaceTempView(\"orders\")"
   ]
  },
  {
   "cell_type": "markdown",
   "metadata": {
    "application/vnd.databricks.v1+cell": {
     "cellMetadata": {
      "byteLimit": 2048000,
      "rowLimit": 10000
     },
     "inputWidgets": {},
     "nuid": "a65d0372-49ff-48a0-b6df-4e7b889b843a",
     "showTitle": false,
     "tableResultSettingsMap": {},
     "title": ""
    }
   },
   "source": [
    "\n",
    "#### Reading another file orders item, which is in another folder of Azure Storage account"
   ]
  },
  {
   "cell_type": "code",
   "execution_count": 0,
   "metadata": {
    "application/vnd.databricks.v1+cell": {
     "cellMetadata": {
      "byteLimit": 2048000,
      "rowLimit": 10000
     },
     "inputWidgets": {},
     "nuid": "b748865a-e0cd-4f60-94a8-7cc2b480fbe4",
     "showTitle": false,
     "tableResultSettingsMap": {},
     "title": ""
    }
   },
   "outputs": [],
   "source": [
    "order_item_df = spark.read \\\n",
    "    .format(\"csv\") \\\n",
    "    .option(\"header\", \"true\") \\\n",
    "        .option(\"path\", \"dbfs:/mnt/sales/order_items/order_items1.csv\") \\\n",
    "            .load()"
   ]
  },
  {
   "cell_type": "code",
   "execution_count": 0,
   "metadata": {
    "application/vnd.databricks.v1+cell": {
     "cellMetadata": {
      "byteLimit": 2048000,
      "rowLimit": 10000
     },
     "inputWidgets": {},
     "nuid": "d7389465-03a0-4045-8fff-5463f0c20862",
     "showTitle": false,
     "tableResultSettingsMap": {},
     "title": ""
    }
   },
   "outputs": [
    {
     "output_type": "stream",
     "name": "stdout",
     "output_type": "stream",
     "text": [
      "+-------------+-------------------+---------------------+-------------------+-------------------+------------------------+\n|order_item_id|order_item_order_id|order_item_product_id|order_item_quantity|order_item_subtotal|order_item_product_price|\n+-------------+-------------------+---------------------+-------------------+-------------------+------------------------+\n|            1|                  1|                  957|                  1|             299.98|                  299.98|\n|            2|                  2|                 1073|                  1|             199.99|                  199.99|\n|            3|                  2|                  502|                  5|                250|                      50|\n|            4|                  2|                  403|                  1|             129.99|                  129.99|\n|            5|                  4|                  897|                  2|              49.98|                   24.99|\n+-------------+-------------------+---------------------+-------------------+-------------------+------------------------+\nonly showing top 5 rows\n\n"
     ]
    }
   ],
   "source": [
    "order_item_df.show(5)"
   ]
  },
  {
   "cell_type": "code",
   "execution_count": 0,
   "metadata": {
    "application/vnd.databricks.v1+cell": {
     "cellMetadata": {
      "byteLimit": 2048000,
      "rowLimit": 10000
     },
     "inputWidgets": {},
     "nuid": "c1e19603-643c-4b38-8a11-78fd55d5c78e",
     "showTitle": false,
     "tableResultSettingsMap": {},
     "title": ""
    }
   },
   "outputs": [],
   "source": [
    "order_item_df.createOrReplaceTempView(\"order_item\")"
   ]
  },
  {
   "cell_type": "markdown",
   "metadata": {
    "application/vnd.databricks.v1+cell": {
     "cellMetadata": {
      "byteLimit": 2048000,
      "rowLimit": 10000
     },
     "inputWidgets": {},
     "nuid": "b6fe6c39-a22f-4836-bb23-4d8cb9e7a5b0",
     "showTitle": false,
     "tableResultSettingsMap": {},
     "title": ""
    }
   },
   "source": [
    "\n",
    "#### Reading another file customers data from SQLDB"
   ]
  },
  {
   "cell_type": "code",
   "execution_count": 0,
   "metadata": {
    "application/vnd.databricks.v1+cell": {
     "cellMetadata": {
      "byteLimit": 2048000,
      "rowLimit": 10000
     },
     "inputWidgets": {},
     "nuid": "43996844-e2d6-4a64-b972-7e05458f3d5e",
     "showTitle": false,
     "tableResultSettingsMap": {},
     "title": ""
    }
   },
   "outputs": [],
   "source": [
    "dbServer = \"tt-capstone-sql-server.database.windows.net\"\n",
    "dbPort = \"1433\"\n",
    "dbName = \"tt-capstone-database\"\n",
    "dbUser = \"lovepreetadmin\"\n",
    "dbPassword = dbutils.secrets.get(scope= \"MountingADLS\", key = \"SQL-password\")"
   ]
  },
  {
   "cell_type": "code",
   "execution_count": 0,
   "metadata": {
    "application/vnd.databricks.v1+cell": {
     "cellMetadata": {
      "byteLimit": 2048000,
      "rowLimit": 10000
     },
     "inputWidgets": {},
     "nuid": "d91073ab-f6b0-417c-8689-edbab4347eaa",
     "showTitle": false,
     "tableResultSettingsMap": {},
     "title": ""
    }
   },
   "outputs": [],
   "source": [
    "connectionUrl = 'jdbc:sqlserver://{0}:{1};database={2};user={3}'.format(dbServer, dbPort, dbName, dbUser)\n",
    "\n",
    "connectionProperties = {\n",
    "    \"user\": dbUser,\n",
    "    \"password\": dbPassword,\n",
    "    \"driver\": \"com.microsoft.sqlserver.jdbc.SQLServerDriver\"\n",
    "}\n",
    "\n",
    "customers_df = spark.read.jdbc(\n",
    "    url=connectionUrl,\n",
    "    table='dbo.customers',\n",
    "    properties=connectionProperties\n",
    ")"
   ]
  },
  {
   "cell_type": "code",
   "execution_count": 0,
   "metadata": {
    "application/vnd.databricks.v1+cell": {
     "cellMetadata": {
      "byteLimit": 2048000,
      "rowLimit": 10000
     },
     "inputWidgets": {},
     "nuid": "550d6da7-7c44-470f-9727-a47e99d60113",
     "showTitle": false,
     "tableResultSettingsMap": {},
     "title": ""
    }
   },
   "outputs": [
    {
     "output_type": "stream",
     "name": "stdout",
     "output_type": "stream",
     "text": [
      "+-----------+--------------+--------------+---------+---------+--------------------+-----------+-----+-------+\n|customer_id|customer_fname|customer_lname| username| password|             address|       city|state|pincode|\n+-----------+--------------+--------------+---------+---------+--------------------+-----------+-----+-------+\n|          1|       Richard|     Hernandez|XXXXXXXXX|XXXXXXXXX|  6303 Heather Plaza|Brownsville|   TX|  78521|\n|          2|          Mary|       Barrett|XXXXXXXXX|XXXXXXXXX|9526 Noble Embers...|  Littleton|   CO|  80126|\n|          3|           Ann|         Smith|XXXXXXXXX|XXXXXXXXX|3422 Blue Pioneer...|     Caguas|   PR|  00725|\n|          4|          Mary|         Jones|XXXXXXXXX|XXXXXXXXX|  8324 Little Common| San Marcos|   CA|  92069|\n|          5|        Robert|        Hudson|XXXXXXXXX|XXXXXXXXX|10 Crystal River ...|     Caguas|   PR|  00725|\n+-----------+--------------+--------------+---------+---------+--------------------+-----------+-----+-------+\nonly showing top 5 rows\n\n"
     ]
    }
   ],
   "source": [
    "customers_df.show(5)"
   ]
  },
  {
   "cell_type": "code",
   "execution_count": 0,
   "metadata": {
    "application/vnd.databricks.v1+cell": {
     "cellMetadata": {
      "byteLimit": 2048000,
      "rowLimit": 10000
     },
     "inputWidgets": {},
     "nuid": "785d04a4-ade6-4b07-8cbc-bd458b250fa5",
     "showTitle": false,
     "tableResultSettingsMap": {},
     "title": ""
    }
   },
   "outputs": [],
   "source": [
    "customers_df.createOrReplaceTempView(\"customers\")"
   ]
  },
  {
   "cell_type": "markdown",
   "metadata": {
    "application/vnd.databricks.v1+cell": {
     "cellMetadata": {
      "byteLimit": 2048000,
      "rowLimit": 10000
     },
     "inputWidgets": {},
     "nuid": "59248242-79e6-4501-b364-40d25eb9c1b3",
     "showTitle": false,
     "tableResultSettingsMap": {},
     "title": ""
    }
   },
   "source": [
    "\n",
    "#### Setting the business logic"
   ]
  },
  {
   "cell_type": "code",
   "execution_count": 0,
   "metadata": {
    "application/vnd.databricks.v1+cell": {
     "cellMetadata": {
      "byteLimit": 2048000,
      "rowLimit": 10000
     },
     "inputWidgets": {},
     "nuid": "af5e28f9-d831-4375-a329-8afdd689fa9a",
     "showTitle": false,
     "tableResultSettingsMap": {},
     "title": ""
    }
   },
   "outputs": [],
   "source": [
    "result_df = spark.sql(\"\"\"\n",
    "          SELECT c.customer_id, c.customer_fname, c.customer_lname, c.city, c.state, c.pincode, COUNT(order_id) AS num_orders_placed,\n",
    "          ROUND(SUM(order_item_subtotal), 2) AS total_amount\n",
    "          from customers c\n",
    "          JOIN orders o ON c.customer_id = o.customer_id\n",
    "          JOIN order_item oi ON o.order_id = oi.order_item_order_id\n",
    "          GROUP BY c.customer_id, c.customer_fname, c.customer_lname, c.city, c.state, c.pincode\n",
    "          ORDER BY total_amount DESC\n",
    "          \"\"\")"
   ]
  },
  {
   "cell_type": "code",
   "execution_count": 0,
   "metadata": {
    "application/vnd.databricks.v1+cell": {
     "cellMetadata": {
      "byteLimit": 2048000,
      "rowLimit": 10000
     },
     "inputWidgets": {},
     "nuid": "0637faa4-078a-48c0-b3c1-ecd39cc00918",
     "showTitle": false,
     "tableResultSettingsMap": {},
     "title": ""
    }
   },
   "outputs": [],
   "source": [
    "result_df.show(5, truncate= False)"
   ]
  },
  {
   "cell_type": "markdown",
   "metadata": {
    "application/vnd.databricks.v1+cell": {
     "cellMetadata": {
      "byteLimit": 2048000,
      "rowLimit": 10000
     },
     "inputWidgets": {},
     "nuid": "03c5c7a7-3cde-4375-b5b5-c1cc7cc54819",
     "showTitle": false,
     "tableResultSettingsMap": {},
     "title": ""
    }
   },
   "source": [
    "\n",
    "#### Now writing this result back to Azure SQL DB so that any visualization tool can use this data"
   ]
  },
  {
   "cell_type": "code",
   "execution_count": 0,
   "metadata": {
    "application/vnd.databricks.v1+cell": {
     "cellMetadata": {
      "byteLimit": 2048000,
      "rowLimit": 10000
     },
     "inputWidgets": {},
     "nuid": "c4e27ee8-b39f-43c4-89f7-5ee6c8526e88",
     "showTitle": false,
     "tableResultSettingsMap": {},
     "title": ""
    }
   },
   "outputs": [],
   "source": [
    "result_df.write.jdbc(url=connectionUrl, table='dbo.sales_reporting', mode='overwrite', properties=connectionProperties)"
   ]
  },
  {
   "cell_type": "code",
   "execution_count": 0,
   "metadata": {
    "application/vnd.databricks.v1+cell": {
     "cellMetadata": {},
     "inputWidgets": {},
     "nuid": "46d12460-b104-4948-b751-d4e9a4ab945e",
     "showTitle": false,
     "tableResultSettingsMap": {},
     "title": ""
    }
   },
   "outputs": [],
   "source": [
    "dbutils.notebook.exit(\"Success\")"
   ]
  },
  {
   "cell_type": "code",
   "execution_count": 0,
   "metadata": {
    "application/vnd.databricks.v1+cell": {
     "cellMetadata": {},
     "inputWidgets": {},
     "nuid": "b739f2bb-4876-48e4-99df-098accc67f7e",
     "showTitle": false,
     "tableResultSettingsMap": {},
     "title": ""
    }
   },
   "outputs": [],
   "source": []
  },
  {
   "cell_type": "code",
   "execution_count": 0,
   "metadata": {
    "application/vnd.databricks.v1+cell": {
     "cellMetadata": {},
     "inputWidgets": {},
     "nuid": "3228ee7f-bf45-409e-ac7c-a062ccc331f1",
     "showTitle": false,
     "tableResultSettingsMap": {},
     "title": ""
    }
   },
   "outputs": [],
   "source": []
  }
 ],
 "metadata": {
  "application/vnd.databricks.v1+notebook": {
   "computePreferences": null,
   "dashboards": [],
   "environmentMetadata": {
    "base_environment": "",
    "environment_version": "2"
   },
   "language": "python",
   "notebookMetadata": {
    "pythonIndentUnit": 4
   },
   "notebookName": "data transformations",
   "widgets": {}
  },
  "language_info": {
   "name": "python"
  }
 },
 "nbformat": 4,
 "nbformat_minor": 0
}